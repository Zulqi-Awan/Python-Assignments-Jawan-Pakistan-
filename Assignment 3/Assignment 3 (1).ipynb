{
 "cells": [
  {
   "cell_type": "code",
   "execution_count": 1,
   "id": "4d28b09e",
   "metadata": {},
   "outputs": [
    {
     "name": "stdout",
     "output_type": "stream",
     "text": [
      "Twinkle, twinkle, little star,\n",
      "        How I wonder what you are!\n",
      "            Up above the world so high,\n",
      "            Like a diamond in the sky.\n",
      "Twinkle, twinkle, little star,\n",
      "        HOw I wonder what you are\n"
     ]
    }
   ],
   "source": [
    "#Answer-1\n",
    "\n",
    "print(\"\"\"Twinkle, twinkle, little star,\n",
    "        How I wonder what you are!\n",
    "            Up above the world so high,\n",
    "            Like a diamond in the sky.\n",
    "Twinkle, twinkle, little star,\n",
    "        HOw I wonder what you are\"\"\")\n"
   ]
  },
  {
   "cell_type": "code",
   "execution_count": 2,
   "id": "419d1272",
   "metadata": {},
   "outputs": [
    {
     "name": "stdout",
     "output_type": "stream",
     "text": [
      "Python version:\n",
      "3.8.8 (default, Apr 13 2021, 15:08:03) [MSC v.1916 64 bit (AMD64)]\n"
     ]
    }
   ],
   "source": [
    "#Answer-2\n",
    "\n",
    "import sys\n",
    "\n",
    "print(\"Python version:\")\n",
    "print(sys.version)\n"
   ]
  },
  {
   "cell_type": "code",
   "execution_count": 3,
   "id": "d3c07833",
   "metadata": {},
   "outputs": [
    {
     "name": "stdout",
     "output_type": "stream",
     "text": [
      "The current date and time =  2021-10-23 02:26:21.526527\n"
     ]
    }
   ],
   "source": [
    "#Answer-3\n",
    "\n",
    "from datetime import datetime\n",
    "\n",
    "current = datetime.now()\n",
    "\n",
    "print(\"The current date and time = \",current)\n"
   ]
  },
  {
   "cell_type": "code",
   "execution_count": 4,
   "id": "7cc985a7",
   "metadata": {},
   "outputs": [
    {
     "name": "stdout",
     "output_type": "stream",
     "text": [
      "The radius of circle =2\n",
      "\n",
      "The area of circle = 12.56\n"
     ]
    }
   ],
   "source": [
    "#Answer-4\n",
    "\n",
    "radius = float(input(\"The radius of circle =\"))\n",
    "\n",
    "pi = 3.14\n",
    "\n",
    "area = (radius**2)*pi\n",
    "\n",
    "print(\"\\nThe area of circle =\",area)\n"
   ]
  },
  {
   "cell_type": "code",
   "execution_count": 5,
   "id": "d686ec01",
   "metadata": {},
   "outputs": [
    {
     "name": "stdout",
     "output_type": "stream",
     "text": [
      "Enter the first name:zulqi\n",
      "Enter the last name:awan\n",
      "awan  zulqi\n"
     ]
    }
   ],
   "source": [
    "#Answer-5\n",
    "\n",
    "first_name = input(\"Enter the first name:\")\n",
    "last_name = input(\"Enter the last name:\")\n",
    "\n",
    "print(last_name,\"\",first_name)\n"
   ]
  },
  {
   "cell_type": "code",
   "execution_count": 6,
   "id": "759eee14",
   "metadata": {},
   "outputs": [
    {
     "name": "stdout",
     "output_type": "stream",
     "text": [
      "Enter the first input =2\n",
      "Enter the second input =2\n",
      "\n",
      "The addition of two inputs is 4\n"
     ]
    }
   ],
   "source": [
    "#Answer-6\n",
    "\n",
    "first = int(input(\"Enter the first input =\"))\n",
    "second = int(input(\"Enter the second input =\"))\n",
    "\n",
    "add = first + second\n",
    "\n",
    "print(\"\\nThe addition of two inputs is\",add)\n"
   ]
  },
  {
   "cell_type": "code",
   "execution_count": 7,
   "id": "dad404b9",
   "metadata": {},
   "outputs": [
    {
     "name": "stdout",
     "output_type": "stream",
     "text": [
      "Enter English subject marks out of 100:95\n",
      "Enter Math subject marks out of 100:45\n",
      "Enter Physics subject marks out of 100:25\n",
      "Enter Chemistry subject marks out of 100:35\n",
      "Enter Islamiyat subject marks out of 100:12\n",
      "Grade E\n"
     ]
    }
   ],
   "source": [
    "#Answer-7\n",
    "\n",
    "eng = float(input(\"Enter English subject marks out of 100:\"))\n",
    "math = float(input(\"Enter Math subject marks out of 100:\"))\n",
    "phy = float(input(\"Enter Physics subject marks out of 100:\"))\n",
    "chem = float(input(\"Enter Chemistry subject marks out of 100:\"))\n",
    "isl = float(input(\"Enter Islamiyat subject marks out of 100:\"))\n",
    "\n",
    "total_marks = (eng+math+phy+chem+isl)\n",
    "percentage = (total_marks*100)//500\n",
    "\n",
    "if percentage > 80 and percentage <=100:\n",
    "    print(\"Grade A\")\n",
    "    \n",
    "elif percentage > 70 and percentage <= 80:\n",
    "    print(\"Grade B\")\n",
    "    \n",
    "elif percentage > 60 and percentage <= 70:\n",
    "    print(\"Grade C\")\n",
    "    \n",
    "elif percentage > 50 and percentage <= 60:\n",
    "    print(\"Grade D\")\n",
    "    \n",
    "elif percentage > 40 and percentage <= 50:\n",
    "    print(\"Grade E\")\n",
    "    \n",
    "elif percentage >= 0 and percentage <= 40:\n",
    "    print(\"Fail\")\n",
    "    \n",
    "else:\n",
    "    print(\"Invalid Entry\")\n",
    "    "
   ]
  },
  {
   "cell_type": "code",
   "execution_count": 8,
   "id": "01334db5",
   "metadata": {},
   "outputs": [
    {
     "name": "stdout",
     "output_type": "stream",
     "text": [
      "Enter the number =2\n",
      "Even Number\n"
     ]
    }
   ],
   "source": [
    "#Answer-8\n",
    "\n",
    "num = int(input(\"Enter the number =\"))\n",
    "\n",
    "if num%2 == 0:\n",
    "    print(\"Even Number\")\n",
    "\n",
    "else:\n",
    "    print(\"Odd Number\")\n",
    "    "
   ]
  },
  {
   "cell_type": "code",
   "execution_count": 9,
   "id": "29bab5d8",
   "metadata": {},
   "outputs": [
    {
     "name": "stdout",
     "output_type": "stream",
     "text": [
      "The length of list is 11\n"
     ]
    }
   ],
   "source": [
    "#Answer-9\n",
    "\n",
    "a = [1,1,2,3,5,8,13,21,34,55,89]\n",
    "\n",
    "print(\"The length of list is\",len(a))\n"
   ]
  },
  {
   "cell_type": "code",
   "execution_count": 10,
   "id": "20ef794d",
   "metadata": {},
   "outputs": [
    {
     "name": "stdout",
     "output_type": "stream",
     "text": [
      "The sum of all items in list [1, 1, 2, 3, 5, 8, 13, 21, 34, 55, 89] is 232\n"
     ]
    }
   ],
   "source": [
    "#Answer-10\n",
    "\n",
    "a = [1,1,2,3,5,8,13,21,34,55,89]\n",
    "\n",
    "j = 0\n",
    "\n",
    "for i in a:\n",
    "    j += i\n",
    "    \n",
    "print(\"The sum of all items in list\",a,\"is\",j)\n"
   ]
  },
  {
   "cell_type": "code",
   "execution_count": 11,
   "id": "d94950ec",
   "metadata": {},
   "outputs": [
    {
     "name": "stdout",
     "output_type": "stream",
     "text": [
      "89\n"
     ]
    }
   ],
   "source": [
    "#Answer-11\n",
    "\n",
    "a = [1,1,2,3,5,8,13,21,34,55,89]\n",
    "\n",
    "print(max(a))\n"
   ]
  },
  {
   "cell_type": "code",
   "execution_count": 12,
   "id": "645d9cad",
   "metadata": {},
   "outputs": [
    {
     "name": "stdout",
     "output_type": "stream",
     "text": [
      "1\n",
      "1\n",
      "2\n",
      "3\n"
     ]
    }
   ],
   "source": [
    "#Answer-12\n",
    "\n",
    "a = [1,1,2,3,5,8,13,21,34,55,89]\n",
    "\n",
    "for i in a:\n",
    "    if i < 5:\n",
    "        print(i)\n",
    "        "
   ]
  },
  {
   "cell_type": "code",
   "execution_count": null,
   "id": "b06f7be7",
   "metadata": {},
   "outputs": [],
   "source": []
  }
 ],
 "metadata": {
  "kernelspec": {
   "display_name": "Python 3",
   "language": "python",
   "name": "python3"
  },
  "language_info": {
   "codemirror_mode": {
    "name": "ipython",
    "version": 3
   },
   "file_extension": ".py",
   "mimetype": "text/x-python",
   "name": "python",
   "nbconvert_exporter": "python",
   "pygments_lexer": "ipython3",
   "version": "3.8.8"
  }
 },
 "nbformat": 4,
 "nbformat_minor": 5
}
