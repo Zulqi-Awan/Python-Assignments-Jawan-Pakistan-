{
 "cells": [
  {
   "cell_type": "code",
   "execution_count": null,
   "id": "4d28b09e",
   "metadata": {},
   "outputs": [],
   "source": [
    "#Answer-1\n",
    "\n",
    "print(\"\"\"Twinkle, twinkle, little star,\n",
    "        How I wonder what you are!\n",
    "            Up above the world so high,\n",
    "            Like a diamond in the sky.\n",
    "Twinkle, twinkle, little star,\n",
    "        HOw I wonder what you are\"\"\")\n"
   ]
  },
  {
   "cell_type": "code",
   "execution_count": null,
   "id": "419d1272",
   "metadata": {},
   "outputs": [],
   "source": [
    "#Answer-2\n",
    "\n",
    "import sys\n",
    "\n",
    "print(\"Python version:\")\n",
    "print(sys.version)\n"
   ]
  },
  {
   "cell_type": "code",
   "execution_count": null,
   "id": "d3c07833",
   "metadata": {},
   "outputs": [],
   "source": [
    "#Answer-3\n",
    "\n",
    "from datetime import datetime\n",
    "\n",
    "current = datetime.now()\n",
    "\n",
    "print(\"The current date and time = \",current)\n"
   ]
  },
  {
   "cell_type": "code",
   "execution_count": null,
   "id": "7cc985a7",
   "metadata": {},
   "outputs": [],
   "source": [
    "#Answer-4\n",
    "\n",
    "radius = float(input(\"The radius of circle =\"))\n",
    "\n",
    "pi = 3.14\n",
    "\n",
    "area = (radius**2)*pi\n",
    "\n",
    "print(\"\\nThe area of circle =\",area)\n"
   ]
  },
  {
   "cell_type": "code",
   "execution_count": null,
   "id": "d686ec01",
   "metadata": {},
   "outputs": [],
   "source": [
    "#Answer-5\n",
    "\n",
    "first_name = input(\"Enter the first name:\")\n",
    "last_name = input(\"Enter the last name:\")\n",
    "\n",
    "print(last_name,\"\",first_name)\n"
   ]
  },
  {
   "cell_type": "code",
   "execution_count": null,
   "id": "759eee14",
   "metadata": {},
   "outputs": [],
   "source": [
    "#Answer-6\n",
    "\n",
    "first = int(input(\"Enter the first input =\"))\n",
    "second = int(input(\"Enter the second input =\"))\n",
    "\n",
    "add = first + second\n",
    "\n",
    "print(\"\\nThe addition of two inputs is\",add)\n"
   ]
  },
  {
   "cell_type": "code",
   "execution_count": null,
   "id": "dad404b9",
   "metadata": {},
   "outputs": [],
   "source": [
    "#Answer-7\n",
    "\n",
    "eng = float(input(\"Enter English subject marks out of 100:\"))\n",
    "math = float(input(\"Enter Math subject marks out of 100:\"))\n",
    "phy = float(input(\"Enter Physics subject marks out of 100:\"))\n",
    "chem = float(input(\"Enter Chemistry subject marks out of 100:\"))\n",
    "isl = float(input(\"Enter Islamiyat subject marks out of 100:\"))\n",
    "\n",
    "total_marks = (eng+math+phy+chem+isl)\n",
    "percentage = (total_marks*100)//500\n",
    "\n",
    "if percentage > 80 and percentage <=100:\n",
    "    print(\"Grade A\")\n",
    "    \n",
    "elif percentage > 70 and percentage <= 80:\n",
    "    print(\"Grade B\")\n",
    "    \n",
    "elif percentage > 60 and percentage <= 70:\n",
    "    print(\"Grade C\")\n",
    "    \n",
    "elif percentage > 50 and percentage <= 60:\n",
    "    print(\"Grade D\")\n",
    "    \n",
    "elif percentage > 40 and percentage <= 50:\n",
    "    print(\"Grade E\")\n",
    "    \n",
    "elif percentage >= 0 and percentage <= 40:\n",
    "    print(\"Fail\")\n",
    "    \n",
    "else:\n",
    "    print(\"Invalid Entry\")\n",
    "    "
   ]
  },
  {
   "cell_type": "code",
   "execution_count": null,
   "id": "01334db5",
   "metadata": {},
   "outputs": [],
   "source": [
    "#Answer-8\n",
    "\n",
    "num = int(input(\"Enter the number =\"))\n",
    "\n",
    "if num%2 == 0:\n",
    "    print(\"Even Number\")\n",
    "\n",
    "else:\n",
    "    print(\"Odd Number\")\n",
    "    "
   ]
  },
  {
   "cell_type": "code",
   "execution_count": null,
   "id": "29bab5d8",
   "metadata": {},
   "outputs": [],
   "source": [
    "#Answer-9\n",
    "\n",
    "a = [1,1,2,3,5,8,13,21,34,55,89]\n",
    "\n",
    "print(\"The length of list is\",len(a))\n"
   ]
  },
  {
   "cell_type": "code",
   "execution_count": null,
   "id": "20ef794d",
   "metadata": {},
   "outputs": [],
   "source": [
    "#Answer-10\n",
    "\n",
    "a = [1,1,2,3,5,8,13,21,34,55,89]\n",
    "\n",
    "j = 0\n",
    "\n",
    "for i in a:\n",
    "    j += i\n",
    "    \n",
    "print(\"The sum of all items in list\",a,\"is\",j)\n"
   ]
  },
  {
   "cell_type": "code",
   "execution_count": null,
   "id": "d94950ec",
   "metadata": {},
   "outputs": [],
   "source": [
    "#Answer-11\n",
    "\n",
    "a = [1,1,2,3,5,8,13,21,34,55,89]\n",
    "\n",
    "print(max(a))\n"
   ]
  },
  {
   "cell_type": "code",
   "execution_count": null,
   "id": "645d9cad",
   "metadata": {},
   "outputs": [],
   "source": [
    "#Answer-12\n",
    "\n",
    "a = [1,1,2,3,5,8,13,21,34,55,89]\n",
    "\n",
    "for i in a:\n",
    "    if i < 5:\n",
    "        print(i)\n",
    "        "
   ]
  }
 ],
 "metadata": {
  "kernelspec": {
   "display_name": "Python 3",
   "language": "python",
   "name": "python3"
  },
  "language_info": {
   "codemirror_mode": {
    "name": "ipython",
    "version": 3
   },
   "file_extension": ".py",
   "mimetype": "text/x-python",
   "name": "python",
   "nbconvert_exporter": "python",
   "pygments_lexer": "ipython3",
   "version": "3.8.8"
  }
 },
 "nbformat": 4,
 "nbformat_minor": 5
}
